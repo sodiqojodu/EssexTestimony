{
  "nbformat": 4,
  "nbformat_minor": 0,
  "metadata": {
    "colab": {
      "name": "essextestimonies",
      "provenance": [],
      "collapsed_sections": [],
      "toc_visible": true,
      "include_colab_link": true
    },
    "kernelspec": {
      "display_name": "Python 3",
      "name": "python3"
    }
  },
  "cells": [
    {
      "cell_type": "markdown",
      "metadata": {
        "id": "view-in-github",
        "colab_type": "text"
      },
      "source": [
        "<a href=\"https://colab.research.google.com/github/sodiqojodu/EssexTestimony/blob/main/essextestimonies.ipynb\" target=\"_parent\"><img src=\"https://colab.research.google.com/assets/colab-badge.svg\" alt=\"Open In Colab\"/></a>"
      ]
    },
    {
      "cell_type": "code",
      "metadata": {
        "id": "z_uvipDQ6TG_"
      },
      "source": [
        "from bs4 import BeautifulSoup\n",
        "import pandas as pd\n",
        "import requests"
      ],
      "execution_count": 4,
      "outputs": []
    },
    {
      "cell_type": "code",
      "metadata": {
        "id": "cOJ7-gZV6TL2"
      },
      "source": [
        "def extract():    \n",
        "    headers ={'User-Agent':'Mozilla/5.0 (Windows NT 10.0; Win64; x64) AppleWebKit/537.36 (KHTML, like Gecko) Chrome/89.0.4389.90 Safari/537.36'}\n",
        "    r = requests.get(f\"https://sites.google.com/view/essexcctestimonies/read-testimonies\", headers = headers)\n",
        "    #r.status_code\n",
        "    soup = BeautifulSoup(r.content, 'html.parser')\n",
        "    return soup\n",
        "    #divs = soup.find_all('div', class_='tyJCtd')\n",
        "    #return len(divs)\n",
        "#print(extract())"
      ],
      "execution_count": 17,
      "outputs": []
    },
    {
      "cell_type": "code",
      "metadata": {
        "id": "CVYJgXvw6TOs"
      },
      "source": [
        "def transform(soup):\n",
        "    divs = soup.find_all('div', class_='tyJCtd')\n",
        "    for items in divs:\n",
        "        try:\n",
        "            text = items.find('span').text.strip()\n",
        "        except:\n",
        "            text=''\n",
        "        #print(text)\n",
        "\n",
        "        test = {\n",
        "            'testimony': text\n",
        "        }\n",
        "        joblist.append(test)\n",
        "        \n",
        "    return\n",
        "joblist = []\n",
        "\n",
        "c= extract()\n",
        "transform(c)\n",
        "df = pd.DataFrame(joblist)"
      ],
      "execution_count": 21,
      "outputs": []
    },
    {
      "cell_type": "code",
      "metadata": {
        "id": "rd8V9ao4Dzj0"
      },
      "source": [
        "df.to_csv('essextestimony.csv')"
      ],
      "execution_count": 24,
      "outputs": []
    },
    {
      "cell_type": "code",
      "metadata": {
        "id": "bhytacbi6ToN"
      },
      "source": [
        ""
      ],
      "execution_count": null,
      "outputs": []
    }
  ]
}